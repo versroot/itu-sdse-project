{
 "cells": [
  {
   "cell_type": "markdown",
   "metadata": {},
   "source": [
    "# Project notebook\n",
    "\n",
    "The following notebook is an excerpt and re-written example from a _real_ production model.\n",
    "\n",
    "The overall purpose of the ML algorithm is to identify users on the website that are new possible customers. This is done by collecting behaviour data from the users as input, and the target is whether they converted/turned into customers -- essentially a classification problem. \n",
    "\n",
    "This notebook only focuses on the data processing part. As you know, there are multiple steps in an ML pipeline, and it's not always they are neatly separated like this. For the exam project, they will not be, and that is part of the challenge for you. For production code, it should also not be Python notebooks since, as you may well see, it is difficult to work with and collaborate on them in an automated way.\n",
    "\n",
    "There is a lot of \"fluff\" in such a notebook. This ranges from comments and markdown cells to commented out code and random print statements. That is not necessary in a properly managed project where you can use git to check the version history and such. \n",
    "\n",
    "What is important for you is the identify the entry points into the code and segment them out into easily understandable chunks. Additionally, you might want to follow some basic code standards, such as:\n",
    "\n",
    "- Import only libraries in the beginning of the files\n",
    "- Define functions in the top of the scripts, or if used multiple places, move into a util.py script or such\n",
    "- Remove unused/commented out code\n",
    "- Follow the [PEP 8](https://peps.python.org/pep-0008/) style guide (and others)\n",
    "  \n",
    "Another thing to note is that comments can be misleading. Even if the markdown cell or inline comments says it does _X_, don't be surprised if it actually does _Y_. Sometimes additional text can be a blessing, but it can also be a curse sometimes. Remember, though, that your task is to make sure the code runs as before after refactoring the notebook into other files, not update/improve the model or flow to reflect what the comments might say.\n",
    "\n",
    "***"
   ]
  },
  {
   "cell_type": "markdown",
   "metadata": {},
   "source": [
    "# DATA PROCESSING\n",
    "\n",
    "In this section, we will perform Exploratory Data Analysis (EDA) to better understand the dataset before proceeding with more advanced analysis. EDA helps us get a sense of the data’s structure, identify patterns, and spot any potential issues like missing values or outliers. By doing so, we can gain a clearer understanding of the data's key characteristics.\n",
    "\n",
    "We will start with summary statistics to review basic measures like mean, median, and variance, providing an initial overview of the data distribution. Then, we’ll create visualizations such as histograms, box plots, and scatter plots to explore relationships between variables, check for any skewness, and highlight outliers.\n",
    "\n",
    "The purpose of this EDA is to ensure that the dataset is clean and well-structured for further analysis. This step also helps us identify any necessary data transformations and informs decisions on which features might be most relevant for modeling in later stages."
   ]
  },
  {
   "cell_type": "markdown",
   "metadata": {},
   "source": [
    "# Create artifact directory\n",
    "We want to create a directory for storing all the artifacts in the current directory. Users can load all the artifacts later for data cleaning pipelines and inferencing."
   ]
  },
  {
   "cell_type": "code",
   "execution_count": null,
   "metadata": {},
   "outputs": [],
   "source": [
    "# dbutils.widgets.text(\"Training data max date\", \"2024-01-31\")\n",
    "# dbutils.widgets.text(\"Training data min date\", \"2024-01-01\")\n",
    "# max_date = dbutils.widgets.get(\"Training data max date\")\n",
    "# min_date = dbutils.widgets.get(\"Training data min date\")\n",
    "\n",
    "# testnng\n",
    "max_date = \"2024-01-31\"\n",
    "min_date = \"2024-01-01\""
   ]
  },
  {
   "cell_type": "code",
   "execution_count": null,
   "metadata": {},
   "outputs": [],
   "source": []
  },
  {
   "cell_type": "code",
   "execution_count": null,
   "metadata": {},
   "outputs": [
    {
     "name": "stdout",
     "output_type": "stream",
     "text": [
      "project_name \u001b[1;36m(project_name)\u001b[0m: "
     ]
    }
   ],
   "source": [
    "!ccds\n"
   ]
  },
  {
   "cell_type": "code",
   "execution_count": null,
   "metadata": {},
   "outputs": [],
   "source": [
    "import os\n",
    "import shutil\n",
    "from pprint import pprint\n",
    "\n",
    "# shutil.rmtree(\"./artifacts\",ignore_errors=True)\n",
    "os.makedirs(\"artifacts\",exist_ok=True)\n",
    "print(\"Created artifacts directory\")"
   ]
  },
  {
   "cell_type": "markdown",
   "metadata": {},
   "source": [
    "# Pandas dataframe print options"
   ]
  },
  {
   "cell_type": "code",
   "execution_count": null,
   "metadata": {},
   "outputs": [],
   "source": [
    "import pandas as pd\n",
    "import warnings\n",
    "\n",
    "warnings.filterwarnings('ignore')\n",
    "pd.set_option('display.float_format',lambda x: \"%.3f\" % x)"
   ]
  },
  {
   "cell_type": "markdown",
   "metadata": {},
   "source": [
    "# Helper functions\n",
    "\n",
    "* **describe_numeric_col**: Calculates various descriptive stats for a numeric column in a dataframe.\n",
    "* **impute_missing_values**: Imputes the mean/median for numeric columns or the mode for other types."
   ]
  },
  {
   "cell_type": "code",
   "execution_count": null,
   "metadata": {},
   "outputs": [],
   "source": [
    "def describe_numeric_col(x):\n",
    "    \"\"\"\n",
    "    Parameters:\n",
    "        x (pd.Series): Pandas col to describe.\n",
    "    Output:\n",
    "        y (pd.Series): Pandas series with descriptive stats. \n",
    "    \"\"\"\n",
    "    return pd.Series(\n",
    "        [x.count(), x.isnull().count(), x.mean(), x.min(), x.max()],\n",
    "        index=[\"Count\", \"Missing\", \"Mean\", \"Min\", \"Max\"]\n",
    "    )\n",
    "\n",
    "def impute_missing_values(x, method=\"mean\"):\n",
    "    \"\"\"\n",
    "    Parameters:\n",
    "        x (pd.Series): Pandas col to describe.\n",
    "        method (str): Values: \"mean\", \"median\"\n",
    "    \"\"\"\n",
    "    if (x.dtype == \"float64\") | (x.dtype == \"int64\"):\n",
    "        x = x.fillna(x.mean()) if method==\"mean\" else x.fillna(x.median())\n",
    "    else:\n",
    "        x = x.fillna(x.mode()[0])\n",
    "    return x"
   ]
  },
  {
   "cell_type": "markdown",
   "metadata": {},
   "source": [
    "# Read data\n",
    "\n",
    "We read the latest data from our data lake source. Here we load it locally after having pulled it from DVC."
   ]
  },
  {
   "cell_type": "code",
   "execution_count": null,
   "metadata": {},
   "outputs": [],
   "source": [
    "!dvc pull"
   ]
  },
  {
   "cell_type": "code",
   "execution_count": null,
   "metadata": {},
   "outputs": [],
   "source": [
    "print(\"Loading training data\")\n",
    "\n",
    "data = pd.read_csv(\"./artifacts/raw_data.csv\")\n",
    "\n",
    "print(\"Total rows:\", data.count())\n",
    "display(data.head(5))\n"
   ]
  },
  {
   "cell_type": "code",
   "execution_count": null,
   "metadata": {},
   "outputs": [],
   "source": [
    "import pandas as pd\n",
    "import datetime\n",
    "import json\n",
    "\n",
    "if not max_date:\n",
    "    max_date = pd.to_datetime(datetime.datetime.now().date()).date()\n",
    "else:\n",
    "    max_date = pd.to_datetime(max_date).date()\n",
    "\n",
    "min_date = pd.to_datetime(min_date).date()\n",
    "\n",
    "# Time limit data\n",
    "data[\"date_part\"] = pd.to_datetime(data[\"date_part\"]).dt.date\n",
    "data = data[(data[\"date_part\"] >= min_date) & (data[\"date_part\"] <= max_date)]\n",
    "\n",
    "min_date = data[\"date_part\"].min()\n",
    "max_date = data[\"date_part\"].max()\n",
    "date_limits = {\"min_date\": str(min_date), \"max_date\": str(max_date)}\n",
    "with open(\"./artifacts/date_limits.json\", \"w\") as f:\n",
    "    json.dump(date_limits, f)"
   ]
  },
  {
   "cell_type": "markdown",
   "metadata": {},
   "source": [
    "# Feature selection\n",
    "\n",
    "Not all columns are relevant for modelling"
   ]
  },
  {
   "cell_type": "code",
   "execution_count": null,
   "metadata": {},
   "outputs": [],
   "source": [
    "data = data.drop(\n",
    "    [\n",
    "        \"is_active\", \"marketing_consent\", \"first_booking\", \"existing_customer\", \"last_seen\"\n",
    "    ],\n",
    "    axis=1\n",
    ")"
   ]
  },
  {
   "cell_type": "code",
   "execution_count": null,
   "metadata": {},
   "outputs": [],
   "source": [
    "#Removing columns that will be added back after the EDA\n",
    "data = data.drop(\n",
    "    [\"domain\", \"country\", \"visited_learn_more_before_booking\", \"visited_faq\"],\n",
    "    axis=1\n",
    ")"
   ]
  },
  {
   "cell_type": "markdown",
   "metadata": {},
   "source": [
    "# Data cleaning\n",
    "* Remove rows with empty target variable\n",
    "* Remove rows with other invalid column data"
   ]
  },
  {
   "cell_type": "code",
   "execution_count": null,
   "metadata": {},
   "outputs": [],
   "source": [
    "import numpy as np\n",
    "\n",
    "data[\"lead_indicator\"].replace(\"\", np.nan, inplace=True)\n",
    "data[\"lead_id\"].replace(\"\", np.nan, inplace=True)\n",
    "data[\"customer_code\"].replace(\"\", np.nan, inplace=True)\n",
    "\n",
    "data = data.dropna(axis=0, subset=[\"lead_indicator\"])\n",
    "data = data.dropna(axis=0, subset=[\"lead_id\"])\n",
    "\n",
    "data = data[data.source == \"signup\"]\n",
    "result=data.lead_indicator.value_counts(normalize = True)\n",
    "\n",
    "print(\"Target value counter\")\n",
    "for val, n in zip(result.index, result):\n",
    "    print(val, \": \", n)\n",
    "data"
   ]
  },
  {
   "cell_type": "markdown",
   "metadata": {},
   "source": [
    "# Create categorical data columns"
   ]
  },
  {
   "cell_type": "code",
   "execution_count": null,
   "metadata": {},
   "outputs": [],
   "source": [
    "vars = [\n",
    "    \"lead_id\", \"lead_indicator\", \"customer_group\", \"onboarding\", \"source\", \"customer_code\"\n",
    "]\n",
    "\n",
    "for col in vars:\n",
    "    data[col] = data[col].astype(\"object\")\n",
    "    print(f\"Changed {col} to object type\")"
   ]
  },
  {
   "cell_type": "markdown",
   "metadata": {},
   "source": [
    "# Separate categorical and continuous columns"
   ]
  },
  {
   "cell_type": "code",
   "execution_count": null,
   "metadata": {},
   "outputs": [],
   "source": [
    "cont_vars = data.loc[:, ((data.dtypes==\"float64\")|(data.dtypes==\"int64\"))]\n",
    "cat_vars = data.loc[:, (data.dtypes==\"object\")]\n",
    "\n",
    "print(\"\\nContinuous columns: \\n\")\n",
    "pprint(list(cont_vars.columns), indent=4)\n",
    "print(\"\\n Categorical columns: \\n\")\n",
    "pprint(list(cat_vars.columns), indent=4)"
   ]
  },
  {
   "cell_type": "markdown",
   "metadata": {},
   "source": [
    "# Outliers\n",
    "\n",
    "Outliers are data points that significantly differ from the majority of observations in a dataset and can distort statistical analysis or model performance. To identify and remove outliers, one common method is to use the Z-score, which measures how many standard deviations a data point is from the mean. Data points with a Z-score greater than 2 (or sometimes 3) standard deviations away from the mean are typically considered outliers. By applying this threshold, we can filter out values that fall outside the normal range of the data, ensuring that the remaining dataset is more representative and less influenced by extreme values."
   ]
  },
  {
   "cell_type": "code",
   "execution_count": null,
   "metadata": {},
   "outputs": [],
   "source": [
    "cont_vars = cont_vars.apply(lambda x: x.clip(lower = (x.mean()-2*x.std()),\n",
    "                                             upper = (x.mean()+2*x.std())))\n",
    "outlier_summary = cont_vars.apply(describe_numeric_col).T\n",
    "outlier_summary.to_csv('./artifacts/outlier_summary.csv')\n",
    "outlier_summary"
   ]
  },
  {
   "cell_type": "markdown",
   "metadata": {},
   "source": [
    "# Impute data\n",
    "\n",
    "In real-world datasets, missing data is a common occurrence due to various factors such as human error, incomplete data collection processes, or system failures. These gaps in the data can hinder analysis and lead to biased results if not properly addressed. Since many analytical and machine learning algorithms require complete data, handling missing values is an essential step in the data preprocessing phase.\n",
    "\n",
    "In the next code block, we will handle missing data by performing imputation. For numerical columns, we will replace missing values with the mean or median of the entire column, which provides a reasonable estimate based on the existing data. For categorical columns (object type), we will use the mode, or most frequent value, to fill in missing entries. This approach helps us maintain a complete dataset while ensuring that the imputed values align with the general distribution of each column."
   ]
  },
  {
   "cell_type": "code",
   "execution_count": null,
   "metadata": {},
   "outputs": [],
   "source": [
    "cat_missing_impute = cat_vars.mode(numeric_only=False, dropna=True)\n",
    "cat_missing_impute.to_csv(\"./artifacts/cat_missing_impute.csv\")\n",
    "cat_missing_impute"
   ]
  },
  {
   "cell_type": "code",
   "execution_count": null,
   "metadata": {},
   "outputs": [],
   "source": [
    "# Continuous variables missing values\n",
    "cont_vars = cont_vars.apply(impute_missing_values)\n",
    "cont_vars.apply(describe_numeric_col).T"
   ]
  },
  {
   "cell_type": "code",
   "execution_count": null,
   "metadata": {},
   "outputs": [],
   "source": [
    "cat_vars.loc[cat_vars['customer_code'].isna(),'customer_code'] = 'None'\n",
    "cat_vars = cat_vars.apply(impute_missing_values)\n",
    "cat_vars.apply(lambda x: pd.Series([x.count(), x.isnull().sum()], index = ['Count', 'Missing'])).T\n",
    "cat_vars"
   ]
  },
  {
   "cell_type": "markdown",
   "metadata": {},
   "source": [
    "# Data standardisation\n",
    "\n",
    "Standardization, or scaling, becomes necessary when continuous independent variables are measured on different scales, as this can lead to unequal contributions to the analysis. The objective is to rescale these variables so they have comparable ranges and/or variances, ensuring a more balanced influence in the model."
   ]
  },
  {
   "cell_type": "code",
   "execution_count": null,
   "metadata": {},
   "outputs": [],
   "source": [
    "from sklearn.preprocessing import MinMaxScaler\n",
    "import joblib\n",
    "\n",
    "scaler_path = \"./artifacts/scaler.pkl\"\n",
    "\n",
    "scaler = MinMaxScaler()\n",
    "scaler.fit(cont_vars)\n",
    "\n",
    "joblib.dump(value=scaler, filename=scaler_path)\n",
    "print(\"Saved scaler in artifacts\")\n",
    "\n",
    "cont_vars = pd.DataFrame(scaler.transform(cont_vars), columns=cont_vars.columns)\n",
    "cont_vars"
   ]
  },
  {
   "cell_type": "markdown",
   "metadata": {},
   "source": [
    "# Combine data"
   ]
  },
  {
   "cell_type": "code",
   "execution_count": null,
   "metadata": {},
   "outputs": [],
   "source": [
    "cont_vars = cont_vars.reset_index(drop=True)\n",
    "cat_vars = cat_vars.reset_index(drop=True)\n",
    "data = pd.concat([cat_vars, cont_vars], axis=1)\n",
    "print(f\"Data cleansed and combined.\\nRows: {len(data)}\")\n",
    "data"
   ]
  },
  {
   "cell_type": "markdown",
   "metadata": {},
   "source": [
    "# Data drift artifact"
   ]
  },
  {
   "cell_type": "code",
   "execution_count": null,
   "metadata": {},
   "outputs": [],
   "source": [
    "import json\n",
    "\n",
    "data_columns = list(data.columns)\n",
    "with open('./artifacts/columns_drift.json','w+') as f:           \n",
    "    json.dump(data_columns,f)\n",
    "    \n",
    "data.to_csv('./artifacts/training_data.csv', index=False)"
   ]
  },
  {
   "cell_type": "markdown",
   "metadata": {},
   "source": [
    "# Binning object columns"
   ]
  },
  {
   "cell_type": "code",
   "execution_count": null,
   "metadata": {},
   "outputs": [],
   "source": [
    "data.columns"
   ]
  },
  {
   "cell_type": "code",
   "execution_count": null,
   "metadata": {},
   "outputs": [],
   "source": [
    "data['bin_source'] = data['source']\n",
    "values_list = ['li', 'organic','signup','fb']\n",
    "data.loc[~data['source'].isin(values_list),'bin_source'] = 'Others'\n",
    "mapping = {'li' : 'socials', \n",
    "           'fb' : 'socials', \n",
    "           'organic': 'group1', \n",
    "           'signup': 'group1'\n",
    "           }\n",
    "\n",
    "data['bin_source'] = data['source'].map(mapping)"
   ]
  },
  {
   "cell_type": "markdown",
   "metadata": {},
   "source": [
    "# Save gold medallion dataset"
   ]
  },
  {
   "cell_type": "code",
   "execution_count": null,
   "metadata": {},
   "outputs": [],
   "source": [
    "#spark.sql(f\"drop table if exists train_gold\")\n"
   ]
  },
  {
   "cell_type": "code",
   "execution_count": null,
   "metadata": {},
   "outputs": [],
   "source": [
    "# data_gold = spark.createDataFrame(data)\n",
    "# data_gold.write.saveAsTable('train_gold')\n",
    "# dbutils.notebook.exit(('training_golden_data',most_recent_date))\n",
    "\n",
    "data.to_csv('./artifacts/train_data_gold.csv', index=False)"
   ]
  },
  {
   "cell_type": "markdown",
   "metadata": {},
   "source": [
    "# MODEL TRAINING\n",
    "\n",
    "Training the model uses a training dataset for training an ML algorithm. It has sample output data and the matching input data that affects the output."
   ]
  },
  {
   "cell_type": "code",
   "execution_count": null,
   "metadata": {},
   "outputs": [],
   "source": [
    "import datetime\n",
    "\n",
    "# Constants used:\n",
    "current_date = datetime.datetime.now().strftime(\"%Y_%B_%d\")\n",
    "data_gold_path = \"./artifacts/train_data_gold.csv\"\n",
    "data_version = \"00000\"\n",
    "experiment_name = current_date"
   ]
  },
  {
   "cell_type": "markdown",
   "metadata": {},
   "source": [
    "# Create paths\n",
    "\n",
    "Maybe the artifacts path has not been created during data cleaning"
   ]
  },
  {
   "cell_type": "code",
   "execution_count": null,
   "metadata": {},
   "outputs": [],
   "source": [
    "import os\n",
    "import shutil\n",
    "\n",
    "os.makedirs(\"artifacts\", exist_ok=True)\n",
    "os.makedirs(\"mlruns\", exist_ok=True)\n",
    "os.makedirs(\"mlruns/.trash\", exist_ok=True)"
   ]
  },
  {
   "cell_type": "code",
   "execution_count": null,
   "metadata": {},
   "outputs": [],
   "source": [
    "import mlflow\n",
    "\n",
    "mlflow.set_experiment(experiment_name)"
   ]
  },
  {
   "cell_type": "markdown",
   "metadata": {},
   "source": [
    "# Helper functions\n",
    "\n",
    "* *create_dummies*: Create one-hot encoding columns in the data."
   ]
  },
  {
   "cell_type": "code",
   "execution_count": null,
   "metadata": {},
   "outputs": [],
   "source": [
    "def create_dummy_cols(df, col):\n",
    "    df_dummies = pd.get_dummies(df[col], prefix=col, drop_first=True)\n",
    "    new_df = pd.concat([df, df_dummies], axis=1)\n",
    "    new_df = new_df.drop(col, axis=1)\n",
    "    return new_df"
   ]
  },
  {
   "cell_type": "markdown",
   "metadata": {},
   "source": [
    "# Load training data\n",
    "We use the training data we cleaned earlier"
   ]
  },
  {
   "cell_type": "code",
   "execution_count": null,
   "metadata": {},
   "outputs": [],
   "source": [
    "data = pd.read_csv(data_gold_path)\n",
    "print(f\"Training data length: {len(data)}\")\n",
    "data.head(5)"
   ]
  },
  {
   "cell_type": "markdown",
   "metadata": {},
   "source": [
    "# Data type split"
   ]
  },
  {
   "cell_type": "code",
   "execution_count": null,
   "metadata": {},
   "outputs": [],
   "source": [
    "data = data.drop([\"lead_id\", \"customer_code\", \"date_part\"], axis=1)\n",
    "\n",
    "cat_cols = [\"customer_group\", \"onboarding\", \"bin_source\", \"source\"]\n",
    "cat_vars = data[cat_cols]\n",
    "\n",
    "other_vars = data.drop(cat_cols, axis=1)"
   ]
  },
  {
   "cell_type": "markdown",
   "metadata": {},
   "source": [
    "# Dummy variable for categorical vars\n",
    "\n",
    "1. Create one-hot encoded cols for cat vars\n",
    "2. Change to floats"
   ]
  },
  {
   "cell_type": "code",
   "execution_count": null,
   "metadata": {},
   "outputs": [],
   "source": [
    "import pandas as pd\n",
    "\n",
    "for col in cat_vars:\n",
    "    cat_vars[col] = cat_vars[col].astype(\"category\")\n",
    "    cat_vars = create_dummy_cols(cat_vars, col)\n",
    "\n",
    "data = pd.concat([other_vars, cat_vars], axis=1)\n",
    "\n",
    "for col in data:\n",
    "    data[col] = data[col].astype(\"float64\")\n",
    "    print(f\"Changed column {col} to float\")"
   ]
  },
  {
   "cell_type": "markdown",
   "metadata": {},
   "source": [
    "# Splitting data"
   ]
  },
  {
   "cell_type": "code",
   "execution_count": null,
   "metadata": {},
   "outputs": [],
   "source": [
    "y = data[\"lead_indicator\"]\n",
    "X = data.drop([\"lead_indicator\"], axis=1)"
   ]
  },
  {
   "cell_type": "code",
   "execution_count": null,
   "metadata": {},
   "outputs": [],
   "source": [
    "from sklearn.model_selection import train_test_split\n",
    "\n",
    "X_train, X_test, y_train, y_test = train_test_split(\n",
    "    X, y, random_state=42, test_size=0.15, stratify=y\n",
    ")\n",
    "y_train"
   ]
  },
  {
   "cell_type": "markdown",
   "metadata": {},
   "source": [
    "# Model training\n",
    "\n",
    "This stage involves training the ML algorithm by providing it with datasets, where the learning process takes place. Consistent training can significantly enhance the model's prediction accuracy. It's essential to initialize the model's weights randomly so the algorithm can effectively learn to adjust them."
   ]
  },
  {
   "cell_type": "markdown",
   "metadata": {},
   "source": [
    "# XGBoost"
   ]
  },
  {
   "cell_type": "code",
   "execution_count": null,
   "metadata": {},
   "outputs": [],
   "source": [
    "from xgboost import XGBRFClassifier\n",
    "from sklearn.model_selection import RandomizedSearchCV\n",
    "from scipy.stats import uniform\n",
    "from scipy.stats import randint\n",
    "\n",
    "model = XGBRFClassifier(random_state=42)\n",
    "params = {\n",
    "    \"learning_rate\": uniform(1e-2, 3e-1),\n",
    "    \"min_split_loss\": uniform(0, 10),\n",
    "    \"max_depth\": randint(3, 10),\n",
    "    \"subsample\": uniform(0, 1),\n",
    "    \"objective\": [\"reg:squarederror\", \"binary:logistic\", \"reg:logistic\"],\n",
    "    \"eval_metric\": [\"aucpr\", \"error\"]\n",
    "}\n",
    "\n",
    "model_grid = RandomizedSearchCV(model, param_distributions=params, n_jobs=-1, verbose=3, n_iter=10, cv=10)\n",
    "\n",
    "model_grid.fit(X_train, y_train)"
   ]
  },
  {
   "cell_type": "markdown",
   "metadata": {},
   "source": [
    "# Model test accuracy"
   ]
  },
  {
   "cell_type": "code",
   "execution_count": null,
   "metadata": {},
   "outputs": [],
   "source": [
    "from sklearn.metrics import accuracy_score\n",
    "\n",
    "best_model_xgboost_params = model_grid.best_params_\n",
    "print(\"Best xgboost params\")\n",
    "pprint(best_model_xgboost_params)\n",
    "\n",
    "y_pred_train = model_grid.predict(X_train)\n",
    "y_pred_test = model_grid.predict(X_test)\n",
    "print(\"Accuracy train\", accuracy_score(y_pred_train, y_train ))\n",
    "print(\"Accuracy test\", accuracy_score(y_pred_test, y_test))\n"
   ]
  },
  {
   "cell_type": "markdown",
   "metadata": {},
   "source": [
    "# XGBoost performance overview\n",
    "* Confusion matrix\n",
    "* Classification report"
   ]
  },
  {
   "cell_type": "code",
   "execution_count": null,
   "metadata": {},
   "outputs": [],
   "source": [
    "from sklearn.metrics import confusion_matrix\n",
    "from sklearn.metrics import classification_report\n",
    "\n",
    "conf_matrix = confusion_matrix(y_test, y_pred_test)\n",
    "print(\"Test actual/predicted\\n\")\n",
    "print(pd.crosstab(y_test, y_pred_test, rownames=['Actual'], colnames=['Predicted'], margins=True),'\\n')\n",
    "print(\"Classification report\\n\")\n",
    "print(classification_report(y_test, y_pred_test),'\\n')\n",
    "\n",
    "conf_matrix = confusion_matrix(y_train, y_pred_train)\n",
    "print(\"Train actual/predicted\\n\")\n",
    "print(pd.crosstab(y_train, y_pred_train, rownames=['Actual'], colnames=['Predicted'], margins=True),'\\n')\n",
    "print(\"Classification report\\n\")\n",
    "print(classification_report(y_train, y_pred_train),'\\n')"
   ]
  },
  {
   "cell_type": "markdown",
   "metadata": {},
   "source": [
    "# Save best XGBoost model"
   ]
  },
  {
   "cell_type": "code",
   "execution_count": null,
   "metadata": {},
   "outputs": [],
   "source": [
    "xgboost_model = model_grid.best_estimator_\n",
    "xgboost_model_path = \"./artifacts/lead_model_xgboost.json\"\n",
    "xgboost_model.save_model(xgboost_model_path)\n",
    "\n",
    "model_results = {\n",
    "    xgboost_model_path: classification_report(y_train, y_pred_train, output_dict=True)\n",
    "}"
   ]
  },
  {
   "cell_type": "markdown",
   "metadata": {},
   "source": [
    "# SKLearn logistic regression"
   ]
  },
  {
   "cell_type": "code",
   "execution_count": null,
   "metadata": {},
   "outputs": [],
   "source": [
    "import mlflow.pyfunc\n",
    "\n",
    "from sklearn.linear_model import LogisticRegression\n",
    "import os\n",
    "from sklearn.metrics import cohen_kappa_score, f1_score\n",
    "import matplotlib.pyplot as plt\n",
    "import joblib\n",
    "\n",
    "class lr_wrapper(mlflow.pyfunc.PythonModel):\n",
    "    def __init__(self, model):\n",
    "        self.model = model\n",
    "    \n",
    "    def predict(self, context, model_input):\n",
    "        return self.model.predict_proba(model_input)[:, 1]\n",
    "\n",
    "\n",
    "mlflow.sklearn.autolog(log_input_examples=True, log_models=False)\n",
    "experiment_id = mlflow.get_experiment_by_name(experiment_name).experiment_id\n",
    "\n",
    "with mlflow.start_run(experiment_id=experiment_id) as run:\n",
    "    model = LogisticRegression()\n",
    "    lr_model_path = \"./artifacts/lead_model_lr.pkl\"\n",
    "\n",
    "    params = {\n",
    "              'solver': [\"newton-cg\", \"lbfgs\", \"liblinear\", \"sag\", \"saga\"],\n",
    "              'penalty':  [\"none\", \"l1\", \"l2\", \"elasticnet\"],\n",
    "              'C' : [100, 10, 1.0, 0.1, 0.01]\n",
    "    }\n",
    "    model_grid = RandomizedSearchCV(model, param_distributions= params, verbose=3, n_iter=10, cv=3)\n",
    "    model_grid.fit(X_train, y_train)\n",
    "\n",
    "    best_model = model_grid.best_estimator_\n",
    "\n",
    "    y_pred_train = model_grid.predict(X_train)\n",
    "    y_pred_test = model_grid.predict(X_test)\n",
    "\n",
    "\n",
    "    # log artifacts\n",
    "    mlflow.log_metric('f1_score', f1_score(y_test, y_pred_test))\n",
    "    mlflow.log_artifacts(\"artifacts\", artifact_path=\"model\")\n",
    "    mlflow.log_param(\"data_version\", \"00000\")\n",
    "    \n",
    "    # store model for model interpretability\n",
    "    joblib.dump(value=model, filename=lr_model_path)\n",
    "        \n",
    "    # Custom python model for predicting probability \n",
    "    mlflow.pyfunc.log_model('model', python_model=lr_wrapper(model))\n",
    "\n",
    "\n",
    "model_classification_report = classification_report(y_test, y_pred_test, output_dict=True)\n",
    "\n",
    "best_model_lr_params = model_grid.best_params_\n",
    "\n",
    "print(\"Best lr params\")\n",
    "pprint(best_model_lr_params)\n",
    "\n",
    "print(\"Accuracy train:\", accuracy_score(y_pred_train, y_train ))\n",
    "print(\"Accuracy test:\", accuracy_score(y_pred_test, y_test))\n",
    "\n",
    "conf_matrix = confusion_matrix(y_test, y_pred_test)\n",
    "print(\"Test actual/predicted\\n\")\n",
    "print(pd.crosstab(y_test, y_pred_test, rownames=['Actual'], colnames=['Predicted'], margins=True),'\\n')\n",
    "print(\"Classification report\\n\")\n",
    "print(classification_report(y_test, y_pred_test),'\\n')\n",
    "\n",
    "conf_matrix = confusion_matrix(y_train, y_pred_train)\n",
    "print(\"Train actual/predicted\\n\")\n",
    "print(pd.crosstab(y_train, y_pred_train, rownames=['Actual'], colnames=['Predicted'], margins=True),'\\n')\n",
    "print(\"Classification report\\n\")\n",
    "print(classification_report(y_train, y_pred_train),'\\n')\n",
    "\n",
    "model_results[lr_model_path] = model_classification_report\n",
    "print(model_classification_report[\"weighted avg\"][\"f1-score\"])\n"
   ]
  },
  {
   "cell_type": "markdown",
   "metadata": {},
   "source": [
    "# Save columns and model results"
   ]
  },
  {
   "cell_type": "code",
   "execution_count": null,
   "metadata": {},
   "outputs": [],
   "source": [
    "column_list_path = './artifacts/columns_list.json'\n",
    "with open(column_list_path, 'w+') as columns_file:\n",
    "    columns = {'column_names': list(X_train.columns)}\n",
    "    pprint(columns)\n",
    "    json.dump(columns, columns_file)\n",
    "\n",
    "print('Saved column list to ', column_list_path)\n",
    "\n",
    "model_results_path = \"./artifacts/model_results.json\"\n",
    "with open(model_results_path, 'w+') as results_file:\n",
    "    json.dump(model_results, results_file)"
   ]
  },
  {
   "cell_type": "markdown",
   "metadata": {},
   "source": [
    "# MODEL SELECTION\n",
    "\n",
    "Model selection involves choosing the most suitable statistical model from a set of candidates. In straightforward cases, this process uses an existing dataset. When candidate models offer comparable predictive or explanatory power, the simplest model is generally the preferred choice."
   ]
  },
  {
   "cell_type": "code",
   "execution_count": null,
   "metadata": {},
   "outputs": [],
   "source": [
    "# Constants used:\n",
    "current_date = datetime.datetime.now().strftime(\"%Y_%B_%d\")\n",
    "artifact_path = \"model\"\n",
    "model_name = \"lead_model\"\n",
    "experiment_name = current_date"
   ]
  },
  {
   "cell_type": "markdown",
   "metadata": {},
   "source": [
    "# Helper functions"
   ]
  },
  {
   "cell_type": "code",
   "execution_count": null,
   "metadata": {},
   "outputs": [],
   "source": [
    "import time\n",
    "from mlflow.tracking.client import MlflowClient\n",
    "from mlflow.entities.model_registry.model_version_status import ModelVersionStatus\n",
    "from mlflow.tracking.client import MlflowClient\n",
    "\n",
    "def wait_until_ready(model_name, model_version):\n",
    "    client = MlflowClient()\n",
    "    for _ in range(10):\n",
    "        model_version_details = client.get_model_version(\n",
    "          name=model_name,\n",
    "          version=model_version,\n",
    "        )\n",
    "        status = ModelVersionStatus.from_string(model_version_details.status)\n",
    "        print(f\"Model status: {ModelVersionStatus.to_string(status)}\")\n",
    "        if status == ModelVersionStatus.READY:\n",
    "            break\n",
    "        time.sleep(1)\n"
   ]
  },
  {
   "cell_type": "markdown",
   "metadata": {},
   "source": [
    "# Getting experiment model results"
   ]
  },
  {
   "cell_type": "code",
   "execution_count": null,
   "metadata": {},
   "outputs": [],
   "source": [
    "experiment_ids = [mlflow.get_experiment_by_name(experiment_name).experiment_id]\n",
    "experiment_ids"
   ]
  },
  {
   "cell_type": "code",
   "execution_count": null,
   "metadata": {},
   "outputs": [],
   "source": [
    "experiment_best = mlflow.search_runs(\n",
    "    experiment_ids=experiment_ids,\n",
    "    order_by=[\"metrics.f1_score DESC\"],\n",
    "    max_results=1\n",
    ").iloc[0]\n",
    "experiment_best"
   ]
  },
  {
   "cell_type": "code",
   "execution_count": null,
   "metadata": {},
   "outputs": [],
   "source": [
    "import json\n",
    "\n",
    "with open(\"./artifacts/model_results.json\", \"r\") as f:\n",
    "    model_results = json.load(f)\n",
    "results_df = pd.DataFrame({model: val[\"weighted avg\"] for model, val in model_results.items()}).T\n",
    "results_df"
   ]
  },
  {
   "cell_type": "code",
   "execution_count": null,
   "metadata": {},
   "outputs": [],
   "source": [
    "best_model = results_df.sort_values(\"f1-score\", ascending=False).iloc[0].name\n",
    "print(f\"Best model: {best_model}\")"
   ]
  },
  {
   "cell_type": "markdown",
   "metadata": {},
   "source": [
    "# Get production model"
   ]
  },
  {
   "cell_type": "code",
   "execution_count": null,
   "metadata": {},
   "outputs": [],
   "source": [
    "from mlflow.tracking import MlflowClient\n",
    "\n",
    "client = MlflowClient()\n",
    "prod_model = [model for model in client.search_model_versions(f\"name='{model_name}'\") if dict(model)['current_stage']=='Production']\n",
    "prod_model_exists = len(prod_model)>0\n",
    "\n",
    "if prod_model_exists:\n",
    "    prod_model_version = dict(prod_model[0])['version']\n",
    "    prod_model_run_id = dict(prod_model[0])['run_id']\n",
    "    \n",
    "    print('Production model name: ', model_name)\n",
    "    print('Production model version:', prod_model_version)\n",
    "    print('Production model run id:', prod_model_run_id)\n",
    "    \n",
    "else:\n",
    "    print('No model in production')\n"
   ]
  },
  {
   "cell_type": "markdown",
   "metadata": {},
   "source": [
    "# Compare prod and best trained model"
   ]
  },
  {
   "cell_type": "code",
   "execution_count": null,
   "metadata": {},
   "outputs": [],
   "source": [
    "train_model_score = experiment_best[\"metrics.f1_score\"]\n",
    "model_details = {}\n",
    "model_status = {}\n",
    "run_id = None\n",
    "\n",
    "if prod_model_exists:\n",
    "    data, details = mlflow.get_run(prod_model_run_id)\n",
    "    prod_model_score = data[1][\"metrics.f1_score\"]\n",
    "\n",
    "    model_status[\"current\"] = train_model_score\n",
    "    model_status[\"prod\"] = prod_model_score\n",
    "\n",
    "    if train_model_score>prod_model_score:\n",
    "        print(\"Registering new model\")\n",
    "        run_id = experiment_best[\"run_id\"]\n",
    "else:\n",
    "    print(\"No model in production\")\n",
    "    run_id = experiment_best[\"run_id\"]\n",
    "\n",
    "print(f\"Registered model: {run_id}\")"
   ]
  },
  {
   "cell_type": "markdown",
   "metadata": {},
   "source": [
    "# Register best model"
   ]
  },
  {
   "cell_type": "code",
   "execution_count": null,
   "metadata": {},
   "outputs": [],
   "source": [
    "if run_id is not None:\n",
    "    print(f'Best model found: {run_id}')\n",
    "\n",
    "    model_uri = \"runs:/{run_id}/{artifact_path}\".format(\n",
    "        run_id=run_id,\n",
    "        artifact_path=artifact_path\n",
    "    )\n",
    "    model_details = mlflow.register_model(model_uri=model_uri, name=model_name)\n",
    "    wait_until_ready(model_details.name, model_details.version)\n",
    "    model_details = dict(model_details)\n",
    "    print(model_details)"
   ]
  },
  {
   "cell_type": "markdown",
   "metadata": {},
   "source": [
    "# DEPLOY\n",
    "\n",
    "A model version can be assigned to one or more stages. MLflow provides predefined stages for common use cases: None, Staging, Production, and Archived. With the necessary permissions, you can transition a model version between stages or request a transition to a different stage."
   ]
  },
  {
   "cell_type": "code",
   "execution_count": null,
   "metadata": {},
   "outputs": [],
   "source": [
    "model_version = 1"
   ]
  },
  {
   "cell_type": "markdown",
   "metadata": {},
   "source": [
    "# Transition to staging"
   ]
  },
  {
   "cell_type": "code",
   "execution_count": null,
   "metadata": {},
   "outputs": [],
   "source": [
    "from mlflow.tracking import MlflowClient\n",
    "\n",
    "client = MlflowClient()\n",
    "\n",
    "\n",
    "def wait_for_deployment(model_name, model_version, stage='Staging'):\n",
    "    status = False\n",
    "    while not status:\n",
    "        model_version_details = dict(\n",
    "            client.get_model_version(name=model_name,version=model_version)\n",
    "            )\n",
    "        if model_version_details['current_stage'] == stage:\n",
    "            print(f'Transition completed to {stage}')\n",
    "            status = True\n",
    "            break\n",
    "        else:\n",
    "            time.sleep(2)\n",
    "    return status\n",
    "\n",
    "model_version_details = dict(client.get_model_version(name=model_name,version=model_version))\n",
    "model_status = True\n",
    "if model_version_details['current_stage'] != 'Staging':\n",
    "    client.transition_model_version_stage(\n",
    "        name=model_name,\n",
    "        version=model_version,stage=\"Staging\", \n",
    "        archive_existing_versions=True\n",
    "    )\n",
    "    model_status = wait_for_deployment(model_name, model_version, 'Staging')\n",
    "else:\n",
    "    print('Model already in staging')"
   ]
  }
 ],
 "metadata": {
  "kernelspec": {
   "display_name": "MLOPS venv (3.12.3)",
   "language": "python",
   "name": "python3"
  },
  "language_info": {
   "codemirror_mode": {
    "name": "ipython",
    "version": 3
   },
   "file_extension": ".py",
   "mimetype": "text/x-python",
   "name": "python",
   "nbconvert_exporter": "python",
   "pygments_lexer": "ipython3",
   "version": "3.12.3"
  }
 },
 "nbformat": 4,
 "nbformat_minor": 2
}
